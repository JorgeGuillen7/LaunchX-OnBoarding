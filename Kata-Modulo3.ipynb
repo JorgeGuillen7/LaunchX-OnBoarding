{
 "cells": [
  {
   "cell_type": "markdown",
   "metadata": {},
   "source": [
    "# Kata Módulo 3"
   ]
  },
  {
   "cell_type": "markdown",
   "metadata": {},
   "source": [
    "## Problema 1\n",
    "\n",
    "Para este ejercicio, escribirás una lógica condicional que imprima una advertencia si un asteroide se acerca a la Tierra demasiado rápido. La velocidad del asteroide varía dependiendo de lo cerca que esté del sol, y cualquier velocidad superior a 25 kilómetros por segundo (km/s) merece una advertencia.\n",
    "\n",
    "Un asteroide se acerca, y viaja a una velocidad de 49 km/s."
   ]
  },
  {
   "cell_type": "code",
   "execution_count": 19,
   "metadata": {},
   "outputs": [
    {
     "name": "stdout",
     "output_type": "stream",
     "text": [
      "¡Peligro!, un asteroide se acerca a la tierra demasiado rápido 😱\n"
     ]
    }
   ],
   "source": [
    "vel_asteroid = 49\n",
    "\n",
    "if vel_asteroid > 25:\n",
    "    print('¡Peligro!, un asteroide se acerca a la tierra demasiado rápido 😱')\n",
    "else:\n",
    "    print('Todo esta ok, no hay peligro')"
   ]
  },
  {
   "cell_type": "markdown",
   "metadata": {},
   "source": [
    "## Problema 2\n",
    "\n",
    "Si un asteroide entra en la atmósfera de la Tierra a una velocidad mayor o igual a 20 km/s, a veces produce un rayo de luz que se puede ver desde la Tierra. Escribe la lógica condicional que usa declaraciones if, else, y elif para alertar a las personas de todo el mundo que deben buscar un asteroide en el cielo. ¡Hay uno que se dirige a la tierra ahora a una velocidad de 19 km/s!"
   ]
  },
  {
   "cell_type": "code",
   "execution_count": 33,
   "metadata": {},
   "outputs": [
    {
     "name": "stdout",
     "output_type": "stream",
     "text": [
      "No hay nada interesante que observar\n"
     ]
    }
   ],
   "source": [
    "vel_asteroid2 = 19\n",
    "\n",
    "if vel_asteroid2 > 20:\n",
    "    print('¡Mira el cielo, observa la luz del asteroide pasar!')\n",
    "elif vel_asteroid2 == 20:\n",
    "    print('¡Mira el cielo, observa la luz del asteroide pasar!')\n",
    "else:\n",
    "    print('No hay nada interesante que observar')"
   ]
  },
  {
   "cell_type": "markdown",
   "metadata": {},
   "source": [
    "## Problema 3\n",
    "\n",
    "En este ejercicio, aprenderás información más matizada sobre cuándo los asteroides representan un peligro para la Tierra, y utilizarás esa información para mejorar nuestro sistema de advertencia. Aquí está la nueva información que necesitas saber:\n",
    "\n",
    "*Los asteroides de menos de 25 metros en su dimensión más grande probablemente se quemarán a medida que entren en la atmósfera de la Tierra.\n",
    "\n",
    "Si una pieza de un asteroide que es más grande que 25 metros pero más pequeña que 1000 metros golpeara la Tierra, causaría mucho daño.\n",
    "También discutimos en el ejercicio anterior que:\n",
    "\n",
    "La velocidad del asteroide varía en función de lo cerca que esté del sol, y cualquier velocidad superior a 25 kilómetros por segundo (km/s) merece una advertencia.\n",
    "Si un asteroide entra en la atmósfera de la Tierra a una velocidad mayor o igual a 20 km/s, a veces produce un rayo de luz que se puede ver desde la Tierra.\n",
    "Usando toda esta información, escribe un programa que emita la advertencia o información correcta a la gente de la Tierra, según la velocidad y el tamaño de un asteroide. Utiliza instrucciones if, else, y elif, así como los operadores and y or."
   ]
  },
  {
   "cell_type": "code",
   "execution_count": 54,
   "metadata": {},
   "outputs": [
    {
     "name": "stdout",
     "output_type": "stream",
     "text": [
      "¡Calma!, este asteroide se quemará cuando entre a la atmosfera 😉\n"
     ]
    }
   ],
   "source": [
    "asteroid_size = 24\n",
    "asteroid_speed = 18\n",
    "\n",
    "\n",
    "if asteroid_size >= 1000:\n",
    "    print('¡Hasta nunca, esto ya valió! 💥')\n",
    "elif asteroid_size >= 25 and asteroid_size < 1000:\n",
    "    print('¡Peligro! Este asteroide golpeará la tierra y causará mucho daño 😨')\n",
    "elif asteroid_speed >= 25:\n",
    "    print('¡Peligro, un asteroide se acerca a la tierra demasiado rápido 😱')\n",
    "elif asteroid_speed >= 20:\n",
    "    print('¡Mira el cielo, observa la luz del asteroide pasar! 🔭')\n",
    "else:\n",
    "    print('¡Calma!, este asteroide se quemará cuando entre a la atmosfera 😉' )"
   ]
  }
 ],
 "metadata": {
  "interpreter": {
   "hash": "916dbcbb3f70747c44a77c7bcd40155683ae19c65e1c03b4aa3499c5328201f1"
  },
  "kernelspec": {
   "display_name": "Python 3.8.10 64-bit",
   "language": "python",
   "name": "python3"
  },
  "language_info": {
   "codemirror_mode": {
    "name": "ipython",
    "version": 3
   },
   "file_extension": ".py",
   "mimetype": "text/x-python",
   "name": "python",
   "nbconvert_exporter": "python",
   "pygments_lexer": "ipython3",
   "version": "3.8.10"
  },
  "orig_nbformat": 4
 },
 "nbformat": 4,
 "nbformat_minor": 2
}
