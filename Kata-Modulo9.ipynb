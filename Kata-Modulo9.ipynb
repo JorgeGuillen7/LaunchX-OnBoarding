{
  "cells": [
    {
      "cell_type": "markdown",
      "metadata": {},
      "source": [
        "# Kata módulo 9"
      ]
    },
    {
      "cell_type": "markdown",
      "metadata": {},
      "source": [
        "## Ejercicio 1: Trabajar con argumentos en funciones\n",
        "\n",
        "Los argumentos requeridos en las funciones se utilizan cuando las funciones necesitan que esos argumentos funcionen correctamente. En este ejercicio, construirás un informe de combustible que requiere información de varias ubicaciones de combustible en todo el cohete.\n",
        "\n"
      ]
    },
    {
      "cell_type": "markdown",
      "metadata": {},
      "source": [
        "Comienza por crear una función que necesite tres lecturas de combustible y devuelva un informe:"
      ]
    },
    {
      "cell_type": "code",
      "execution_count": 114,
      "metadata": {},
      "outputs": [],
      "source": [
        "# Función para leer 3 tanques de combustible y muestre el promedio\n",
        "def fuel_report(tank1, tank2, tank3):\n",
        "    total_fuel = (tank1 + tank2 + tank3) / 3\n",
        "    return f'''Fuel Report:\n",
        "Tank 1: {tank1}%\n",
        "Tank 2: {tank2}%\n",
        "Tank 3: {tank3}%\n",
        "{'-' * 16}\n",
        "Average: {round(total_fuel,2)}%'''"
      ]
    },
    {
      "cell_type": "markdown",
      "metadata": {},
      "source": [
        "Ahora que hemos definido la función de informes, vamos a comprobarlo. Para esta misión, los tanques no están llenos:"
      ]
    },
    {
      "cell_type": "code",
      "execution_count": 115,
      "metadata": {},
      "outputs": [
        {
          "name": "stdout",
          "output_type": "stream",
          "text": [
            "Fuel Report:\n",
            "Tank 1: 74%\n",
            "Tank 2: 63%\n",
            "Tank 3: 87%\n",
            "----------------\n",
            "Average: 74.67%\n"
          ]
        }
      ],
      "source": [
        "\n",
        "# Llamamos a la función que genera el reporte print(funcion(tanque1, tanque2, tanque3))\n",
        "print(fuel_report(74, 63, 87,))"
      ]
    },
    {
      "cell_type": "markdown",
      "metadata": {},
      "source": [
        "En lugar de simplemente crear el informe, la función también está calculando el promedio. Mejora la legibilidad extrayendo el cálculo promedio de la función en una nueva función para que el promedio se pueda hacer de forma independiente:"
      ]
    },
    {
      "cell_type": "code",
      "execution_count": 116,
      "metadata": {},
      "outputs": [
        {
          "name": "stdout",
          "output_type": "stream",
          "text": [
            "Fuel average is 67.4%\n"
          ]
        }
      ],
      "source": [
        "# Función promedio\n",
        "def fuel_average(*args):\n",
        "    average = sum(args) / len(args)\n",
        "    return f'Fuel average is {round(average,2)}%'\n",
        "\n",
        "print(fuel_average(54, 91, 77, 81, 34))"
      ]
    },
    {
      "cell_type": "markdown",
      "metadata": {},
      "source": [
        "Ahora actualiza la función de informes para llamando a la nueva función del promedio:\n"
      ]
    },
    {
      "cell_type": "code",
      "execution_count": 120,
      "metadata": {},
      "outputs": [
        {
          "name": "stdout",
          "output_type": "stream",
          "text": [
            "Fuel Report:\n",
            "Tank 1: 84%\n",
            "Tank 2: 73%\n",
            "Tank 3: 92%\n",
            "-----------------------\n",
            "Fuel average is 83.0%\n"
          ]
        }
      ],
      "source": [
        "# Actualiza la función\n",
        "def fuel_report(tank1, tank2, tank3):\n",
        "    return f'''Fuel Report:\n",
        "Tank 1: {tank1}%\n",
        "Tank 2: {tank2}%\n",
        "Tank 3: {tank3}%\n",
        "{'-' * 23}\n",
        "{fuel_average(tank1,tank2,tank3)}'''\n",
        "\n",
        "print(fuel_report(84, 73, 92))\n"
      ]
    },
    {
      "cell_type": "markdown",
      "metadata": {},
      "source": [
        "## Ejercicio 2: Trabajo con argumentos de palabra clave"
      ]
    },
    {
      "cell_type": "markdown",
      "metadata": {},
      "source": [
        "En este ejercicio, construirás un informe de cohete que requiere varias piezas de información, como el tiempo hasta el destino, el combustible a la izquierda y el nombre del destino. Comienza por crear una función que creará un informe preciso de la misión:"
      ]
    },
    {
      "cell_type": "code",
      "execution_count": 118,
      "metadata": {},
      "outputs": [
        {
          "name": "stdout",
          "output_type": "stream",
          "text": [
            "Mission Report\n",
            "------------------------------\n",
            "Destination: Moon\n",
            "Total flight: 95 minutes\n",
            "Fuel available: 55500 Ltrs\n"
          ]
        }
      ],
      "source": [
        "# Función con un informe preciso de la misión. Considera hora de prelanzamiento, tiempo de vuelo, destino, tanque externo y tanque interno\n",
        "def report(destination, pre_launch, flight_time, out_tank, in_tank):\n",
        "    return f'''Mission Report\n",
        "{'-' * 30}\n",
        "Destination: {destination}\n",
        "Total flight: {pre_launch + flight_time} minutes\n",
        "Fuel available: {out_tank + in_tank} Ltrs'''\n",
        "\n",
        "print(report('Moon', 25, 70, 23400, 32100))"
      ]
    },
    {
      "cell_type": "markdown",
      "metadata": {},
      "source": [
        "La función es problemática porque no se puede adaptar para minutos adicionales o tanques adicionales de combustible. Hazlo más flexible permitiendo cualquier número de pasos basados en el tiempo y cualquier número de tanques. En lugar de usar `*args` y `**kwargs`, aprovecha el hecho de que puedes usar cualquier nombre que desees. Asegurate que la función sea más legible mediante el uso de nombres de variables que están asociados con las entradas, como `*minutes` y `**fuel_reservoirs`:"
      ]
    },
    {
      "cell_type": "code",
      "execution_count": 119,
      "metadata": {},
      "outputs": [
        {
          "name": "stdout",
          "output_type": "stream",
          "text": [
            "Mission Report\n",
            "------------------------------\n",
            "Destination: Moon\n",
            "Total flight: 145 minutes\n",
            "Fuel available: 69000 Ltrs\n",
            "\n"
          ]
        }
      ],
      "source": [
        "# Escribe tu nueva función de reporte considerando lo anterior\n",
        "def report(destination, *minutes, **fuel_reservoirs):\n",
        "    return f'''Mission Report\n",
        "{'-' * 30}\n",
        "Destination: {destination}\n",
        "Total flight: {sum(minutes)} minutes\n",
        "Fuel available: {sum(fuel_reservoirs.values())} Ltrs'''\n",
        "\n",
        "print(report('Moon', 25, 70, 20, 30, External=23400, Internal=32100, Backup=13500))"
      ]
    },
    {
      "cell_type": "markdown",
      "metadata": {},
      "source": [
        "Debido a que el combustible que queda en los tanques es específico de cada tanque, actualiza la función para usar el nombre de cada tanque en el informe:"
      ]
    },
    {
      "cell_type": "code",
      "execution_count": 121,
      "metadata": {},
      "outputs": [
        {
          "name": "stdout",
          "output_type": "stream",
          "text": [
            "Mission Report\n",
            "------------------------------\n",
            "Destination: Moon\n",
            "Total flight: 145 minutes\n",
            "Fuel available: 69000 Ltrs\n",
            "\n",
            "Fuel Tank Details\n",
            "External: 23400 Ltrs\n",
            "Internal: 32100 Ltrs\n",
            "Backup: 13500 Ltrs\n",
            "\n"
          ]
        }
      ],
      "source": [
        "# Escribe tu nueva función\n",
        "def report(destination, *minutes, **fuel_reservoirs):\n",
        "    main_report = f'''Mission Report\n",
        "{'-' * 30}\n",
        "Destination: {destination}\n",
        "Total flight: {sum(minutes)} minutes\n",
        "Fuel available: {sum(fuel_reservoirs.values())} Ltrs\n",
        "\n",
        "Fuel Tank Details\n",
        "'''\n",
        "    for tank, liters in fuel_reservoirs.items():\n",
        "        main_report += f'{tank}: {liters} Ltrs\\n'\n",
        "    return main_report\n",
        "\n",
        "\n",
        "print(report('Moon', 25, 70, 20, 30, External=23400, Internal=32100, Backup=13500))"
      ]
    }
  ],
  "metadata": {
    "interpreter": {
      "hash": "205095b8b86ea82a021a8fc2ffba2b3bc9f8d0be25999901963b225939f75778"
    },
    "kernelspec": {
      "display_name": "Python 3.8.10 64-bit ('tmp': conda)",
      "name": "python3"
    },
    "language_info": {
      "codemirror_mode": {
        "name": "ipython",
        "version": 3
      },
      "file_extension": ".py",
      "mimetype": "text/x-python",
      "name": "python",
      "nbconvert_exporter": "python",
      "pygments_lexer": "ipython3",
      "version": "3.8.10"
    },
    "nteract": {
      "version": "nteract-front-end@1.0.0"
    },
    "orig_nbformat": 4
  },
  "nbformat": 4,
  "nbformat_minor": 2
}
