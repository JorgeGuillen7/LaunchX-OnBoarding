{
  "cells": [
    {
      "cell_type": "markdown",
      "metadata": {},
      "source": [
        "# Ejercicio 1: Creación de diccionarios de Python"
      ]
    },
    {
      "cell_type": "markdown",
      "metadata": {},
      "source": [
        "Para este ejercicio, crearás un diccionario que almacene información sobre el planeta Marte.\n",
        "\n",
        "Agrega el código para crear un nuevo diccionario denominado 'planet'. Rellena con la siguiente información:\n",
        "\n",
        "```\n",
        "name: Mars\n",
        "moons: 2\n",
        "```"
      ]
    },
    {
      "cell_type": "code",
      "execution_count": 1,
      "metadata": {},
      "outputs": [],
      "source": [
        "planet = {\n",
        "    'name': 'Mars',\n",
        "    'moons': 1\n",
        "}"
      ]
    },
    {
      "cell_type": "markdown",
      "metadata": {},
      "source": [
        "Para recuperar valores, puede utilizar el método  `get` o corchetes (`[ ]`) con el nombre de la clave que desea recuperar."
      ]
    },
    {
      "cell_type": "code",
      "execution_count": 49,
      "metadata": {},
      "outputs": [
        {
          "name": "stdout",
          "output_type": "stream",
          "text": [
            "Mars has 1 moons\n"
          ]
        }
      ],
      "source": [
        "print(f'{planet.get(\"name\")} has {planet[\"moons\"]} moons')"
      ]
    },
    {
      "cell_type": "markdown",
      "metadata": {},
      "source": [
        "Puedes actualizar las claves existentes o crear otras nuevas utilizando el método `update` o entre corchetes (`[ ]`). Cuando se usa `update`, se pasa un nuevo objeto de diccionario con los valores actualizados o nuevos. Cuando se usan corchetes, se especifica el nombre de la clave y se asigna un nuevo valor.\n",
        "\n",
        "\n",
        "```python\n",
        "demo['new_key'] = 'New value'\n",
        "```\n",
        "\n",
        "Agrega un nuevo valor con una clave de 'circunferencia (km)'. Este nuevo valor debería almacenar un diccionario con las dos circunferencias del planeta:\n",
        "\n",
        "```\n",
        "polar: 6752\n",
        "equatorial: 6792\n",
        "```\n"
      ]
    },
    {
      "cell_type": "code",
      "execution_count": 8,
      "metadata": {},
      "outputs": [
        {
          "name": "stdout",
          "output_type": "stream",
          "text": [
            "{'name': 'Mars', 'moons': 1, 'circunferencia (km)': {'polar': 6752, 'equatorial': 6792}}\n"
          ]
        }
      ],
      "source": [
        "planet['circunferencia (km)'] = {\n",
        "    'polar': 6752,\n",
        "    'equatorial': 6792 \n",
        "}\n",
        "\n",
        "print(planet)"
      ]
    },
    {
      "cell_type": "markdown",
      "metadata": {},
      "source": [
        "Imprime el nombre del planeta con su circunferencia polar."
      ]
    },
    {
      "cell_type": "code",
      "execution_count": 18,
      "metadata": {},
      "outputs": [
        {
          "name": "stdout",
          "output_type": "stream",
          "text": [
            "The polar circumference of Mars is 6752 km\n"
          ]
        }
      ],
      "source": [
        "print (f'The polar circumference of {planet[\"name\"]} is {planet[\"circunferencia (km)\"][\"polar\"]} km')"
      ]
    },
    {
      "cell_type": "markdown",
      "metadata": {},
      "source": [
        "## Ejercicio 2: Programación dinámica con diccionarios"
      ]
    },
    {
      "cell_type": "markdown",
      "metadata": {},
      "source": [
        "### Ejercicio: Cálculo de valores\n",
        "En este escenario, calcularás tanto el número total de lunas en el sistema solar como el número promedio de lunas que tiene un planeta."
      ]
    },
    {
      "cell_type": "code",
      "execution_count": 32,
      "metadata": {},
      "outputs": [],
      "source": [
        "# Planets and moons\n",
        "\n",
        "planet_moons = {\n",
        "    'mercury': 0,\n",
        "    'venus': 0,\n",
        "    'earth': 1,\n",
        "    'mars': 2,\n",
        "    'jupiter': 79,\n",
        "    'saturn': 82,\n",
        "    'uranus': 27,\n",
        "    'neptune': 14,\n",
        "    'pluto': 5,\n",
        "    'haumea': 2,\n",
        "    'makemake': 1,\n",
        "    'eris': 1\n",
        "}"
      ]
    },
    {
      "cell_type": "markdown",
      "metadata": {},
      "source": [
        "Los diccionarios de Python te permiten recuperar todos los valores y claves utilizando los métodos `values` y `keys`, respectivamente. Cada método devuelve una lista que contiene los datos, que luego se puede usar como una lista normal de Python. Puedes determinar el número de elementos mediante `len`, e iterar a través de él mediante un ciclo `for`.\n",
        "\n",
        "Agrega el código a continuación para determinar el número de lunas. Comienza almacenando el valor `values` de `planet_moons` en una variable denominada `moons`. A continuación, almacena el número de planetas en una variable denominada `planets`.\n"
      ]
    },
    {
      "cell_type": "code",
      "execution_count": 64,
      "metadata": {},
      "outputs": [],
      "source": [
        "moons = planet_moons.values()\n",
        "planets = len(planet_moons.keys())"
      ]
    },
    {
      "cell_type": "markdown",
      "metadata": {},
      "source": [
        "Agrega el código para contar el número de lunas. Puedes hacerlo creando un ciclo `for` para iterar a través de las lunas `moons` y agregándolos a una variable denominada `total_moons`. Finalmente calcule el promedio dividiendo `total_moons` por `planets` e imprimiendo los resultados."
      ]
    },
    {
      "cell_type": "code",
      "execution_count": 68,
      "metadata": {},
      "outputs": [
        {
          "name": "stdout",
          "output_type": "stream",
          "text": [
            "There are 214 moons on 12 planets overall \n",
            "On average there are 18 moons per planet\n"
          ]
        }
      ],
      "source": [
        "# Agrega el código para contar el número de lunas. \n",
        "total_moons = 0\n",
        "\n",
        "for num_moons in moons:\n",
        "    total_moons = total_moons + num_moons\n",
        "\n",
        "average_moons = total_moons / planets\n",
        "\n",
        "print(f'There are {total_moons} moons on {planets} planets overall \\nOn average there are {round(average_moons, None)} moons per planet')"
      ]
    }
  ],
  "metadata": {
    "interpreter": {
      "hash": "916dbcbb3f70747c44a77c7bcd40155683ae19c65e1c03b4aa3499c5328201f1"
    },
    "kernelspec": {
      "display_name": "Python 3.8.10 64-bit",
      "name": "python3"
    },
    "language_info": {
      "codemirror_mode": {
        "name": "ipython",
        "version": 3
      },
      "file_extension": ".py",
      "mimetype": "text/x-python",
      "name": "python",
      "nbconvert_exporter": "python",
      "pygments_lexer": "ipython3",
      "version": "3.8.10"
    },
    "nteract": {
      "version": "nteract-front-end@1.0.0"
    },
    "orig_nbformat": 4
  },
  "nbformat": 4,
  "nbformat_minor": 2
}
